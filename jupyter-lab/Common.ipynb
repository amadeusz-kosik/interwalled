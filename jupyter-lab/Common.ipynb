{
 "cells": [
  {
   "cell_type": "markdown",
   "id": "f19f03b8a58c1a5c",
   "metadata": {},
   "source": [
    "# Common functions\n",
    "This notebook defines common imports and functions used in other notebooks."
   ]
  },
  {
   "cell_type": "code",
   "execution_count": 1,
   "id": "6724b8ca7609c49f",
   "metadata": {
    "ExecuteTime": {
     "end_time": "2025-05-11T16:36:31.473120Z",
     "start_time": "2025-05-11T16:36:30.286906Z"
    }
   },
   "outputs": [],
   "source": [
    "import os\n",
    "\n",
    "import pandas as pd\n",
    "import matplotlib.pyplot as plt"
   ]
  },
  {
   "cell_type": "code",
   "execution_count": 2,
   "id": "b601612e23754e8d",
   "metadata": {
    "ExecuteTime": {
     "end_time": "2025-05-11T16:36:31.487709Z",
     "start_time": "2025-05-11T16:36:31.483967Z"
    }
   },
   "outputs": [],
   "source": [
    "def plot_dataset(benchmark_name: str, data_suites = None, join_names = None):\n",
    "    dataset = pd.read_csv(f\"data/benchmark-{benchmark_name}.csv\", on_bad_lines=\"warn\")\n",
    "    dataset = dataset.query('result == \"success\"')\n",
    "\n",
    "    for column_name in [\"elapsed_time\", \"rows_per_cluster\"]:\n",
    "        dataset[column_name] = pd.to_numeric(dataset[column_name], errors=\"coerce\").astype(\"Int64\")\n",
    "\n",
    "    dataset.sort_values(\"rows_per_cluster\", inplace=True)\n",
    "\n",
    "    if data_suites is None:\n",
    "        data_suites = dataset['data_suite'].unique()\n",
    "\n",
    "    if join_names is None:\n",
    "        join_names = dataset['join_name'].unique()\n",
    "        \n",
    "    plot_figure, plot_axes = plt.subplots(len(data_suites), 2, figsize=(16, 4 * len(data_suites)), sharex = \"col\", sharey = \"all\")\n",
    "\n",
    "    plt.ticklabel_format(useOffset=False)\n",
    "\n",
    "    shared_ax = None    \n",
    "    \n",
    "    for data_suite_index in range(len(data_suites)):\n",
    "        data_suite = data_suites[data_suite_index]\n",
    "\n",
    "        plot_left  = plot_axes[data_suite_index, 0]\n",
    "        plot_right = plot_axes[data_suite_index, 1]\n",
    "\n",
    "        plot_left.set_title(f'{data_suite} - lin')\n",
    "        plot_right.set_title(f'{data_suite} - log')\n",
    "\n",
    "        if data_suite_index > 0:\n",
    "            shared_axl = plot_axes[data_suite_index - 1, 0]\n",
    "            shared_axl = plot_axes[data_suite_index - 1, 1]\n",
    "        \n",
    "        for join_name in join_names:\n",
    "            df_to_plot = dataset.query(f'join_name == \"{join_name}\" and data_suite == \"{data_suite}\"')\n",
    "            plot_left.plot(df_to_plot['rows_per_cluster'], df_to_plot['elapsed_time'], label=join_name)\n",
    "            plot_right.plot(df_to_plot['rows_per_cluster'], df_to_plot['elapsed_time'], label=join_name)\n",
    "            \n",
    "            plot_right.semilogx()\n",
    "            plot_left.legend()\n",
    "\n",
    "    return dataset"
   ]
  }
 ],
 "metadata": {
  "kernelspec": {
   "display_name": "Python 3 (ipykernel)",
   "language": "python",
   "name": "python3"
  },
  "language_info": {
   "codemirror_mode": {
    "name": "ipython",
    "version": 3
   },
   "file_extension": ".py",
   "mimetype": "text/x-python",
   "name": "python",
   "nbconvert_exporter": "python",
   "pygments_lexer": "ipython3",
   "version": "3.13.3"
  }
 },
 "nbformat": 4,
 "nbformat_minor": 5
}
