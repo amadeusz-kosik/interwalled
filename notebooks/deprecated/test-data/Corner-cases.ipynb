{
 "cells": [
  {
   "cell_type": "code",
   "execution_count": 131,
   "id": "79772147-3cbe-4078-b031-eff3540f9ce7",
   "metadata": {},
   "outputs": [],
   "source": [
    "import matplotlib.pyplot as plt\n",
    "import pandas as pd"
   ]
  },
  {
   "cell_type": "code",
   "execution_count": 132,
   "id": "d037c359-f2f3-4aea-bd6d-bbfa46b3b3c7",
   "metadata": {},
   "outputs": [],
   "source": [
    "def plot_input_data(benchmark_name: str):\n",
    "    N = 25\n",
    "    LIMIT = 100\n",
    "    \n",
    "    data_database = (pd\n",
    "        .read_parquet(f\"../../data/{benchmark_name}/10000/1/database.parquet\")\n",
    "        .query(f\"`from` < {LIMIT}\")\n",
    "    )\n",
    "    data_query    = (pd\n",
    "        .read_parquet(f\"../../data/{benchmark_name}/10000/1/query.parquet\")\n",
    "        .query(f\"`from` < {LIMIT}\")\n",
    "    )\n",
    "\n",
    "    # Create the Gantt chart\n",
    "    fig, ax = plt.subplots(figsize=(10, 8))\n",
    "\n",
    "    db_limit = min(N, len(data_database))    \n",
    "    q_limit  = min(N, len(data_query))    \n",
    "                   \n",
    "    for i in range(db_limit):\n",
    "        start = max(0, data_database['from'].iloc[i])\n",
    "        end   = min(data_database['to'].iloc[i], 100)\n",
    "        ax.barh(i, end - start + 1.0, left=start - 0.5, height=0.4, align='center', color='green')\n",
    "\n",
    "\n",
    "    # Plot each interval (first N rows)\n",
    "    for i in range(q_limit):\n",
    "        start = max(0, data_query['from'].iloc[i])\n",
    "        end   = min(data_query['to'].iloc[i], 100)\n",
    "        ax.barh(db_limit + i, end - start + 1.0, left=start - 0.5, height=0.4, align='center', color='blue')\n",
    "    \n",
    "    # Customize the plot\n",
    "    ax.set_xlabel('Value')\n",
    "    ax.set_title(f\"Visualization of {benchmark_name}\")\n",
    "    ax.grid(True, alpha=0.3)\n",
    "    \n",
    "    # Tight layout to prevent label cutoff\n",
    "    plt.tight_layout()\n",
    "    \n",
    "    # # Show the plot\n",
    "    # plt.show()\n",
    "\n",
    "    # Save the plot\n",
    "    plt.savefig(f\"../../docs/figures/test-data-{benchmark_name}.png\", bbox_inches='tight')\n",
    "\n",
    "    # Close to free up memory\n",
    "    plt.close(fig)\n",
    "    "
   ]
  },
  {
   "cell_type": "code",
   "execution_count": 133,
   "id": "b9ded6f7-f2e6-4244-a978-c0a0cbc9ad19",
   "metadata": {},
   "outputs": [],
   "source": [
    "benchmark_names = [\n",
    "    \"all-to-all\", \n",
    "    \"all-to-one\", \n",
    "    \"continuous-16\",\n",
    "    \"one-to-all\",\n",
    "    \"one-to-one\",\n",
    "    \"spanning-4\",\n",
    "    \"spanning-16\",\n",
    "    \"sparse-16\",\n",
    "]\n",
    "\n",
    "for benchmark_name in benchmark_names:\n",
    "    plot_input_data(benchmark_name)"
   ]
  }
 ],
 "metadata": {
  "kernelspec": {
   "display_name": "Python 3 (ipykernel)",
   "language": "python",
   "name": "python3"
  },
  "language_info": {
   "codemirror_mode": {
    "name": "ipython",
    "version": 3
   },
   "file_extension": ".py",
   "mimetype": "text/x-python",
   "name": "python",
   "nbconvert_exporter": "python",
   "pygments_lexer": "ipython3",
   "version": "3.13.7"
  }
 },
 "nbformat": 4,
 "nbformat_minor": 5
}
